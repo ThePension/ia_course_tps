{
 "cells": [
  {
   "attachments": {},
   "cell_type": "markdown",
   "metadata": {},
   "source": [
    "# TP Abalone\n",
    "Étudiant : Aubert Nicolas, ISC3il-b\n",
    "\n",
    "Date : 28.08.2023\n",
    "\n",
    "Enseignant : Hatem Ghorbel"
   ]
  },
  {
   "attachments": {},
   "cell_type": "markdown",
   "metadata": {},
   "source": [
    "## 1. Ploter un histogramme de l’âge."
   ]
  },
  {
   "cell_type": "code",
   "execution_count": 2,
   "metadata": {},
   "outputs": [],
   "source": [
    "import numpy as np\n",
    "import matplotlib.pyplot as plt\n",
    "import pandas as pd\n",
    "from sklearn import neighbors\n",
    "from sklearn.ensemble import RandomForestRegressor\n",
    "from sklearn.metrics import accuracy_score, mean_squared_error\n",
    "from sklearn.model_selection import train_test_split"
   ]
  },
  {
   "cell_type": "code",
   "execution_count": 3,
   "metadata": {},
   "outputs": [
    {
     "data": {
      "text/plain": [
       "<AxesSubplot: ylabel='Frequency'>"
      ]
     },
     "execution_count": 3,
     "metadata": {},
     "output_type": "execute_result"
    },
    {
     "data": {
      "image/png": "[encoded data removed]",
      "text/plain": [
       "<Figure size 640x480 with 1 Axes>"
      ]
     },
     "metadata": {},
     "output_type": "display_data"
    }
   ],
   "source": [
    "# Load data from the abalone.data file, with pandas\n",
    "data = pd.read_csv('abalone.data', header=None)\n",
    "\n",
    "# Remove the first column\n",
    "data = data.drop(0, axis=1)\n",
    "\n",
    "# Add column names : Length\tDiam\tHeight\tWhole\tShucked\tViscera\tShell\tRings\n",
    "data.columns = ['Length', 'Diam', 'Height', 'Whole', 'Shucked', 'Viscera', 'Shell', 'Rings']\n",
    "\n",
    "# Plot, with pandas, the distribution of the number of rings\n",
    "data['Rings'].plot.hist(bins=15)"
   ]
  },
  {
   "attachments": {},
   "cell_type": "markdown",
   "metadata": {},
   "source": [
    "## 2. Quelles sont les variables que vous proposez dans les X du modèle avant d’appliquer un algorithme de K-NN ?"
   ]
  },
  {
   "cell_type": "code",
   "execution_count": 4,
   "metadata": {},
   "outputs": [],
   "source": [
    "X = data.values[:, :7].astype(np.float64)\n",
    "y = data.Rings.values"
   ]
  },
  {
   "attachments": {},
   "cell_type": "markdown",
   "metadata": {},
   "source": [
    "## 3. Nous disposons de 4177 mesures et nous avons construit un dataset de 80% d’entrainement et 20% de test. Appliquer le K-NN en variant les paramètres suivants : k et weight."
   ]
  },
  {
   "cell_type": "code",
   "execution_count": 6,
   "metadata": {},
   "outputs": [
    {
     "name": "stdout",
     "output_type": "stream",
     "text": [
      "k=1, accuracy=8.54%\n",
      "k=2, accuracy=6.29%\n",
      "k=3, accuracy=5.79%\n",
      "k=4, accuracy=5.31%\n",
      "k=5, accuracy=5.27%\n",
      "k=6, accuracy=5.16%\n",
      "k=7, accuracy=5.11%\n",
      "k=8, accuracy=5.05%\n",
      "k=9, accuracy=5.08%\n",
      "k=10, accuracy=5.03%\n",
      "k=11, accuracy=4.97%\n",
      "k=12, accuracy=4.92%\n",
      "k=13, accuracy=4.90%\n",
      "k=14, accuracy=4.90%\n",
      "k=15, accuracy=4.93%\n",
      "k=16, accuracy=4.92%\n",
      "k=17, accuracy=4.90%\n",
      "k=18, accuracy=4.89%\n",
      "k=19, accuracy=4.91%\n"
     ]
    }
   ],
   "source": [
    "# Use the method 'train_test_split' to use 80 percent of the dataset for trainining and 20 for tests\n",
    "X_train, X_test, y_train, y_test = train_test_split(X, y, test_size=0.2, random_state=42)\n",
    "\n",
    "accuracies = {}\n",
    "\n",
    "for k in range(1, 20):\n",
    "    # Create a k-NN classifier with k neighbors\n",
    "    clf = neighbors.KNeighborsRegressor(k)\n",
    "    \n",
    "    # Train the classifier\n",
    "    clf.fit(X_train, y_train)\n",
    "    \n",
    "    # Predict the labels of the test data\n",
    "    y_pred = clf.predict(X_test)\n",
    "    \n",
    "    # Compute the mean squared error of the predictions\n",
    "    mse = mean_squared_error(y_test, y_pred)\n",
    "    print(\"k=%d, accuracy=%.2f%%\" % (k, mse))\n",
    "    \n",
    "    # Store the accuracy in the dictionary\n",
    "    accuracies[k] = mse"
   ]
  },
  {
   "attachments": {},
   "cell_type": "markdown",
   "metadata": {},
   "source": [
    "\n",
    "## 4. Calculer le RMSE (indication : autour de 2.37)\n",
    "Interpréter ce résultat ?"
   ]
  },
  {
   "cell_type": "code",
   "execution_count": 8,
   "metadata": {},
   "outputs": [
    {
     "name": "stdout",
     "output_type": "stream",
     "text": [
      "k=1, accuracy=2.92%\n",
      "k=2, accuracy=2.51%\n",
      "k=3, accuracy=2.41%\n",
      "k=4, accuracy=2.31%\n",
      "k=5, accuracy=2.30%\n",
      "k=6, accuracy=2.27%\n",
      "k=7, accuracy=2.26%\n",
      "k=8, accuracy=2.25%\n",
      "k=9, accuracy=2.25%\n",
      "k=10, accuracy=2.24%\n",
      "k=11, accuracy=2.23%\n",
      "k=12, accuracy=2.22%\n",
      "k=13, accuracy=2.21%\n",
      "k=14, accuracy=2.21%\n",
      "k=15, accuracy=2.22%\n",
      "k=16, accuracy=2.22%\n",
      "k=17, accuracy=2.21%\n",
      "k=18, accuracy=2.21%\n",
      "k=19, accuracy=2.22%\n"
     ]
    }
   ],
   "source": [
    "# Compute RMSE for each value of k\n",
    "for k in range(1, 20):\n",
    "    # Create a k-NN classifier with k neighbors\n",
    "    clf = neighbors.KNeighborsRegressor(k)\n",
    "    \n",
    "    # Train the classifier\n",
    "    clf.fit(X_train, y_train)\n",
    "    \n",
    "    # Predict the labels of the test data\n",
    "    y_pred = clf.predict(X_test)\n",
    "    \n",
    "    # Compute the mean squared error of the predictions\n",
    "    mse = mean_squared_error(y_test, y_pred)\n",
    "    rmse = np.sqrt(mse)\n",
    "    print(\"k=%d, accuracy=%.2f%%\" % (k, rmse))\n",
    "    \n",
    "    # Store the accuracy in the dictionary\n",
    "    accuracies[k] = rmse"
   ]
  },
  {
   "attachments": {},
   "cell_type": "markdown",
   "metadata": {},
   "source": [
    "\n",
    "## 5. Comment peut-on améliorer la régression ?"
   ]
  },
  {
   "cell_type": "code",
   "execution_count": 10,
   "metadata": {},
   "outputs": [
    {
     "name": "stdout",
     "output_type": "stream",
     "text": [
      "MSE: 5.79\n",
      "RMSE: 2.41\n"
     ]
    }
   ],
   "source": [
    "# Use a regressor with the best value of k\n",
    "clf = neighbors.KNeighborsRegressor(3)\n",
    "\n",
    "# Train the classifier\n",
    "clf.fit(X_train, y_train)\n",
    "\n",
    "# Predict the labels of the test data\n",
    "y_pred = clf.predict(X_test)\n",
    "\n",
    "# Compute the mean squared error of the predictions\n",
    "mse = mean_squared_error(y_test, y_pred)\n",
    "\n",
    "# Compute the RMSE of the predictions\n",
    "rmse = np.sqrt(mse)\n",
    "\n",
    "# Print the results\n",
    "print(\"MSE: %.2f\" % mse)\n",
    "print(\"RMSE: %.2f\" % rmse)"
   ]
  },
  {
   "attachments": {},
   "cell_type": "markdown",
   "metadata": {},
   "source": [
    "## 6. Peut-on appliquer la technique de bagging pour encore améliorer la performance du modèle ? comment ?"
   ]
  },
  {
   "cell_type": "code",
   "execution_count": 9,
   "metadata": {},
   "outputs": [
    {
     "name": "stdout",
     "output_type": "stream",
     "text": [
      "MSE = 5.02\n",
      "RMSE = 2.24\n"
     ]
    }
   ],
   "source": [
    "# Use a random forest regressor\n",
    "clf = RandomForestRegressor(n_estimators=100, max_depth=10, random_state=0)\n",
    "\n",
    "# Train the classifier\n",
    "clf.fit(X_train, y_train)\n",
    "\n",
    "# Predict the labels of the test data\n",
    "y_pred = clf.predict(X_test)\n",
    "\n",
    "# Compute the mean squared error of the predictions\n",
    "mse = mean_squared_error(y_test, y_pred)\n",
    "\n",
    "rmse = np.sqrt(mse)\n",
    "\n",
    "print(\"MSE = %.2f\" % mse)\n",
    "print(\"RMSE = %.2f\" % rmse)"
   ]
  }
 ],
 "metadata": {
  "kernelspec": {
   "display_name": "Python 3",
   "language": "python",
   "name": "python3"
  },
  "language_info": {
   "codemirror_mode": {
    "name": "ipython",
    "version": 3
   },
   "file_extension": ".py",
   "mimetype": "text/x-python",
   "name": "python",
   "nbconvert_exporter": "python",
   "pygments_lexer": "ipython3",
   "version": "3.11.0"
  },
  "orig_nbformat": 4,
  "vscode": {
   "interpreter": {
    "hash": "262d9d6f98a5978b31fcca5487e2c2eb926b6ae610d3f912c28c1dd3c84d275c"
   }
  }
 },
 "nbformat": 4,
 "nbformat_minor": 2
}
