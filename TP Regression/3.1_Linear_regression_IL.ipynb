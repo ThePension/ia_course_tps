{
 "cells": [
  {
   "cell_type": "markdown",
   "metadata": {},
   "source": [
    "# TP 3 - Linear regression with python"
   ]
  },
  {
   "cell_type": "markdown",
   "metadata": {},
   "source": [
    "# Learning Outcomes\n",
    "After completing this labo, you will know:\n",
    "\n",
    "1. How to implement a linear regression using the gradient descent algorithm from scratch.\n",
    "2. How to use high level implementations (np.polyfit() ou Scikit-learn).\n",
    "3. How to evaluate the quality of a regression using the $R^2$ score."
   ]
  },
  {
   "cell_type": "markdown",
   "metadata": {},
   "source": [
    "## Implement a linear regression model. Steps by steps:\n",
    "- [] import numpy module\n",
    "- [] create a matrix X following the exemple in the slides\n",
    "- [] create a vector y following the exemple in the slides (y = ax + b)\n",
    "- [] create a vector theta containing the parameters of the model (a and b)\n",
    "- [] initiaize theta to random values between 0 and 1\n",
    "- [] initialize the learning rate, alpha, to 0.0001\n",
    "- [] create a function that computes the gradient of the cost function\n",
    "- [] create a function that computes the gradient descent\n",
    "- [] create a function that computes the prediction\n",
    "- [] create a function that computes the accuracy of the model\n",
    "- [] create a function that plots the model\n",
    "- [] create a function that plots the cost function\n",
    "- [] create a function that plots the gradient descent\n",
    "- [] create a function that plots the prediction\n",
    "- [] create a function that plots the accuracy of the model\n",
    "\n",
    "### Advanced\n",
    "- [] Implement a linear regression using Scikit learn\n",
    "- [] Study the coefficient of determination: $R^2$ (denoted $R^2$ or $r^2$ and pronounced \"R squared\")\n",
    "- [] Implemente and compute $R^2$ (pour differents $\\alpha$ and max iterations)\n",
    "- [] Implement a smarter stop criterium\n"
   ]
  },
  {
   "cell_type": "markdown",
   "metadata": {},
   "source": [
    "## Import"
   ]
  },
  {
   "cell_type": "code",
   "execution_count": 1,
   "metadata": {},
   "outputs": [],
   "source": [
    "import numpy as np\n",
    "import random as rd\n",
    "import matplotlib.pyplot as plt"
   ]
  },
  {
   "cell_type": "markdown",
   "metadata": {},
   "source": [
    "### Define the different constants (max iterations, learning rate)"
   ]
  },
  {
   "cell_type": "code",
   "execution_count": 2,
   "metadata": {},
   "outputs": [],
   "source": [
    "DEBUG = False \n",
    "iterations = 1000000  # (you may want to change this value)\n",
    "alpha = 0.00001 # initialize the learning rate (you may want to change this value)"
   ]
  },
  {
   "cell_type": "markdown",
   "metadata": {},
   "source": [
    "## Create dummy data"
   ]
  },
  {
   "cell_type": "markdown",
   "metadata": {},
   "source": [
    "Using numpy, create a column array following the exemple in the slides. In our case **x** is a column vector (*n x 1*) containing the following values:  42, 50, 55, 62, 62, 75, 85, 120"
   ]
  },
  {
   "cell_type": "code",
   "execution_count": 3,
   "metadata": {},
   "outputs": [],
   "source": [
    "x = np.array([[42, 50, 55, 62, 62, 75, 85, 120]]).T"
   ]
  },
  {
   "cell_type": "markdown",
   "metadata": {},
   "source": [
    "Create a column vector **y** with the following values: 500’000, 530’000, 560’000, 660’000, 630’000, 700’000, 800’000, 1’002’000\n"
   ]
  },
  {
   "cell_type": "code",
   "execution_count": 4,
   "metadata": {},
   "outputs": [],
   "source": [
    "y = np.array([[5, 5.3, 5.6, 6.6, 6.3, 7, 8, 10.02]]).T"
   ]
  },
  {
   "cell_type": "markdown",
   "metadata": {},
   "source": [
    "### Plot the dataset (x, y)"
   ]
  },
  {
   "cell_type": "code",
   "execution_count": 5,
   "metadata": {},
   "outputs": [
    {
     "data": {
      "image/png": "[encoded data removed]",
      "text/plain": [
       "<Figure size 640x480 with 1 Axes>"
      ]
     },
     "metadata": {},
     "output_type": "display_data"
    }
   ],
   "source": [
    "def plot_dataset(x, y):\n",
    "    '''Plot the dataset'''\n",
    "    plt.plot(x, y, 'o')\n",
    "    plt.title(\"Dataset\")\n",
    "    plt.xlabel('x')\n",
    "    plt.ylabel('x')\n",
    "    plt.show()\n",
    "\n",
    "plot_dataset(x, y)"
   ]
  },
  {
   "cell_type": "markdown",
   "metadata": {},
   "source": [
    "### Create $\\theta$ "
   ]
  },
  {
   "cell_type": "markdown",
   "metadata": {},
   "source": [
    "Create a vector theta $\\theta$ containing the parameters of the model. $\\theta_0$ and $\\theta_1$ are the coefficients of the linear regression model and are initialized to random small values (or zeros)."
   ]
  },
  {
   "cell_type": "code",
   "execution_count": 6,
   "metadata": {},
   "outputs": [],
   "source": [
    "theta_0 = 0 # rd.uniform(0, 1)\n",
    "theta_1 = 0 # rd.uniform(0, 1)\n",
    "\n",
    "theta = np.array([[theta_1, theta_0]]).T"
   ]
  },
  {
   "cell_type": "code",
   "execution_count": 7,
   "metadata": {},
   "outputs": [
    {
     "name": "stdout",
     "output_type": "stream",
     "text": [
      "(2, 1)\n"
     ]
    }
   ],
   "source": [
    "print(theta.shape)"
   ]
  },
  {
   "cell_type": "markdown",
   "metadata": {},
   "source": [
    "### Loss function\n",
    "Create the function that computes the loss/cost (for plotting purpose only)"
   ]
  },
  {
   "cell_type": "code",
   "execution_count": 8,
   "metadata": {},
   "outputs": [],
   "source": [
    "def compute_loss(x, y, theta):\n",
    "    '''Compute the loss for a given theta'''\n",
    "    n = len(x)\n",
    "    X = np.concatenate([np.ones_like(y), x], axis=1)     \n",
    "    cost = 1 / (2 * n) * np.sum((np.dot(X, theta) - y)**2)\n",
    "    return cost\n"
   ]
  },
  {
   "cell_type": "markdown",
   "metadata": {},
   "source": [
    "### Loss function gradient\n",
    "Create the functions that computes the gradient of the cost function.\n",
    "This function will be called in the gradient descent function and make the updates:"
   ]
  },
  {
   "cell_type": "markdown",
   "metadata": {},
   "source": [
    "$\\theta_{0} \\leftarrow \\theta_{0} - \\alpha \\frac{1}{N} \\sum_{n=1}^{N} (h_{\\theta}(\\mathbf{x}_{n}) - y_{n})$\n",
    "\n",
    "\n",
    "$\\theta_{1} \\leftarrow \\theta_{1} - \\alpha \\frac{1}{N} \\sum_{n=1}^{N}(h_{\\theta}(\\mathbf{x}_{n}) - y_{n})x_{n,1}$"
   ]
  },
  {
   "cell_type": "code",
   "execution_count": 9,
   "metadata": {},
   "outputs": [],
   "source": [
    "def cost_gradient(x, y, theta):\n",
    "    '''Calculate the gradient of the cost function\n",
    "    Parameters: theta, x, y\n",
    "    Returns: gradient'''\n",
    "    n = len(x)\n",
    "    gradient = np.zeros(theta.shape)   \n",
    "    X = np.concatenate([np.ones_like(y), x], axis=1) \n",
    "    \n",
    "    # Calculate the gradient\n",
    "    # gradient = np.dot(X.T, np.dot(X, theta.T) - y) / n\n",
    "    gradient[0, 0] = (1 / n) * np.sum(np.dot(X, theta) - y) \n",
    "    gradient[1, 0] = (1 / n) * float(np.dot((np.dot(X, theta) - y).T, x))\n",
    "\n",
    "    return gradient # Return the gradient, gradient is a 2x1 matrix"
   ]
  },
  {
   "cell_type": "markdown",
   "metadata": {},
   "source": [
    "### Gradient descent\n",
    "Create a function that computes the gradient descent (you can use ```np.dot``` et ```np.sum```)"
   ]
  },
  {
   "cell_type": "code",
   "execution_count": 10,
   "metadata": {},
   "outputs": [],
   "source": [
    "def gradient_descent(x, y, theta, alpha, iterations, history=False):\n",
    "    ''' Gradient Descent function to minimize the cost function\n",
    "    Parameters: x, y, theta, alpha, iterations\n",
    "    Returns: \n",
    "    - theta: the optimum theta\n",
    "    - loss_history: the evolution of the loss during the training \n",
    "    - theta_history: the evolution of theta during the training'''\n",
    "    \n",
    "    gradient_history = []\n",
    "    if history:\n",
    "        loss_history = []\n",
    "        loss_history.append(compute_loss(x, y, theta))  # initial loss\n",
    "    \n",
    "    for _ in range(iterations):\n",
    "        gradient = cost_gradient(x, y, theta)\n",
    "        theta = theta - alpha * gradient\n",
    "        if history:\n",
    "            gradient_history.append(gradient)\n",
    "            loss_history.append(compute_loss(x, y, theta))  # loss after update             \n",
    "        if DEBUG:\n",
    "            print(f\"gradient = {gradient}\")\n",
    "            print()            \n",
    "            print(f\"theta = {theta}\")\n",
    "            print()\n",
    "    return theta, loss_history"
   ]
  },
  {
   "cell_type": "markdown",
   "metadata": {},
   "source": [
    "## Additional functions\n",
    "Create a function that computes the prediction"
   ]
  },
  {
   "cell_type": "code",
   "execution_count": 11,
   "metadata": {},
   "outputs": [],
   "source": [
    "def predict(x, theta):\n",
    "    '''Predict the output of the model'''\n",
    "    X = np.concatenate([np.ones_like(x), x], axis=1)\n",
    "    prediction = np.dot(X, theta)\n",
    "    return prediction # prediction is a matrix of the same shape as x"
   ]
  },
  {
   "cell_type": "markdown",
   "metadata": {},
   "source": [
    "Create a function that computes the accuracy of the model"
   ]
  },
  {
   "cell_type": "code",
   "execution_count": 12,
   "metadata": {},
   "outputs": [],
   "source": [
    "def accuracy(x, y, theta):\n",
    "    '''Compute the accuracy of the model'''\n",
    "    return np.mean(np.abs(predict(theta, x) - y) / y)"
   ]
  },
  {
   "cell_type": "markdown",
   "metadata": {},
   "source": [
    "Create a function that plots the model"
   ]
  },
  {
   "cell_type": "code",
   "execution_count": 13,
   "metadata": {},
   "outputs": [],
   "source": [
    "def plot_model(x, y, theta):\n",
    "    '''Plot the model'''    \n",
    "    plt.plot(x, y, '.')   \n",
    "    plt.plot(x, predict(x, theta), '-')\n",
    "\n",
    "    plt.show()"
   ]
  },
  {
   "cell_type": "markdown",
   "metadata": {},
   "source": [
    "Create a function that plots the gradient history"
   ]
  },
  {
   "cell_type": "code",
   "execution_count": 14,
   "metadata": {},
   "outputs": [],
   "source": [
    "def plot_loss_history(loss_history, log=True):\n",
    "    '''Plot the gradient history using log scal for x and y'''\n",
    "    plt.plot(loss_history)\n",
    "    if log:\n",
    "        plt.xscale('log')\n",
    "        plt.yscale('log')\n",
    "    plt.xlabel('Iterations')\n",
    "    plt.ylabel('Loss')\n",
    "    plt.show()"
   ]
  },
  {
   "cell_type": "markdown",
   "metadata": {},
   "source": [
    "## Compute the linear regression\n",
    "Using x and y, compute the linear regression et plot everything"
   ]
  },
  {
   "cell_type": "code",
   "execution_count": 15,
   "metadata": {},
   "outputs": [],
   "source": [
    "theta_opt, loss_history = gradient_descent(x, y, theta, alpha, iterations, history=True)"
   ]
  },
  {
   "cell_type": "code",
   "execution_count": 16,
   "metadata": {},
   "outputs": [
    {
     "name": "stdout",
     "output_type": "stream",
     "text": [
      "Best Theta: \n",
      "[[1.37866159]\n",
      " [0.07650474]]\n"
     ]
    }
   ],
   "source": [
    "print(f\"Best Theta: \\n{theta_opt}\")"
   ]
  },
  {
   "cell_type": "code",
   "execution_count": 17,
   "metadata": {},
   "outputs": [
    {
     "name": "stdout",
     "output_type": "stream",
     "text": [
      "Final loss:  0.047162286819086956\n"
     ]
    }
   ],
   "source": [
    "print(\"Final loss: \", compute_loss(x, y, theta_opt))"
   ]
  },
  {
   "cell_type": "code",
   "execution_count": 18,
   "metadata": {},
   "outputs": [
    {
     "name": "stdout",
     "output_type": "stream",
     "text": [
      "[[1.37866159]\n",
      " [0.07650474]]\n"
     ]
    },
    {
     "data": {
      "image/png": "[encoded data removed]",
      "text/plain": [
       "<Figure size 640x480 with 1 Axes>"
      ]
     },
     "metadata": {},
     "output_type": "display_data"
    }
   ],
   "source": [
    "# plot_model(x, y, theta_opt)\n",
    "print(theta_opt)\n",
    "plot_model(x, y, theta_opt)"
   ]
  },
  {
   "cell_type": "markdown",
   "metadata": {},
   "source": [
    "### Plot the loss evolution over time"
   ]
  },
  {
   "cell_type": "code",
   "execution_count": 19,
   "metadata": {},
   "outputs": [
    {
     "data": {
      "image/png": "[encoded data removed]",
      "text/plain": [
       "<Figure size 640x480 with 1 Axes>"
      ]
     },
     "metadata": {},
     "output_type": "display_data"
    }
   ],
   "source": [
    "plot_loss_history(loss_history)"
   ]
  },
  {
   "cell_type": "code",
   "execution_count": 20,
   "metadata": {},
   "outputs": [
    {
     "data": {
      "image/png": "[encoded data removed]",
      "text/plain": [
       "<Figure size 640x480 with 1 Axes>"
      ]
     },
     "metadata": {},
     "output_type": "display_data"
    }
   ],
   "source": [
    "plot_loss_history(loss_history, log=False)"
   ]
  },
  {
   "cell_type": "markdown",
   "metadata": {},
   "source": [
    "## Compute $R^2$"
   ]
  },
  {
   "cell_type": "code",
   "execution_count": 21,
   "metadata": {},
   "outputs": [],
   "source": [
    "def compute_r2(x, y, theta):\n",
    "    y_hat = predict(x, theta)\n",
    "    ss_res = np.sum((y - y_hat)**2)\n",
    "    y_mean = y.mean()\n",
    "    ss_tot = np.sum((y - y_mean)**2)\n",
    "    r2 = 1 - ss_res/ss_tot\n",
    "    return r2"
   ]
  },
  {
   "cell_type": "code",
   "execution_count": 22,
   "metadata": {},
   "outputs": [
    {
     "data": {
      "text/plain": [
       "0.9603393930467278"
      ]
     },
     "execution_count": 22,
     "metadata": {},
     "output_type": "execute_result"
    }
   ],
   "source": [
    "compute_r2(x, y, theta_opt)"
   ]
  },
  {
   "cell_type": "markdown",
   "metadata": {},
   "source": [
    "### Test using polyfit\n",
    "\n",
    "Use ```np.polyfit()``` to compute the regression and compare the results (visually and numerically)"
   ]
  },
  {
   "cell_type": "code",
   "execution_count": 23,
   "metadata": {},
   "outputs": [],
   "source": [
    "x_1 = [42, 50, 55, 62, 62, 75, 85, 120]\n",
    "y_1 = [5, 5.3, 5.6, 6.6, 6.3, 7, 8, 10.02]\n",
    "\n",
    "z = np.polyfit(x_1, y_1, 1)\n",
    "p = np.poly1d(z)"
   ]
  },
  {
   "cell_type": "code",
   "execution_count": 24,
   "metadata": {},
   "outputs": [
    {
     "data": {
      "text/plain": [
       "poly1d([0.06625106, 2.16445828])"
      ]
     },
     "execution_count": 24,
     "metadata": {},
     "output_type": "execute_result"
    }
   ],
   "source": [
    "p"
   ]
  },
  {
   "cell_type": "code",
   "execution_count": 25,
   "metadata": {},
   "outputs": [
    {
     "data": {
      "image/png": "[encoded data removed]",
      "text/plain": [
       "<Figure size 640x480 with 1 Axes>"
      ]
     },
     "metadata": {},
     "output_type": "display_data"
    }
   ],
   "source": [
    "# plot using linspace (2000 => 2016)\n",
    "xp = np.linspace(40, 120, 40)\n",
    "raw = plt.plot(x_1, y_1, '.', label='raw data') \n",
    "liner = plt.plot(xp, p(xp), '-', label='linear')\n",
    "plt.show()"
   ]
  },
  {
   "cell_type": "code",
   "execution_count": 26,
   "metadata": {},
   "outputs": [],
   "source": [
    "# Polynomial Regression\n",
    "def polyfit(x, y, degree):\n",
    "    results = {}\n",
    "\n",
    "    coeffs = np.polyfit(x, y, degree)\n",
    "\n",
    "     # Polynomial Coefficients\n",
    "    results['polynomial'] = coeffs.tolist()\n",
    "\n",
    "    # r-squared\n",
    "    p = np.poly1d(coeffs)\n",
    "    print(\"coeffs:\", coeffs)\n",
    "    # fit values, and mean\n",
    "    y_hat = p(x)                      # or [p(z) for z in x]\n",
    "    y_mean = np.sum(y)/len(y)          # or sum(y)/len(y)\n",
    "    \n",
    "    ss_res = np.sum((y - y_hat)**2)\n",
    "    ss_reg = np.sum((y_hat-y_mean)**2)   # or sum([ (yihat - ybar)**2 for yihat in yhat])\n",
    "    ss_tot = np.sum((y - y_mean)**2)    # or sum([ (yi - ybar)**2 for yi in y])    \n",
    "    results['determination'] = 1 - ss_res / ss_tot\n",
    "\n",
    "    return results"
   ]
  },
  {
   "cell_type": "code",
   "execution_count": 27,
   "metadata": {},
   "outputs": [
    {
     "name": "stdout",
     "output_type": "stream",
     "text": [
      "coeffs: [0.06625106 2.16445828]\n",
      "{'polynomial': [0.06625105947683764, 2.164458278532805], 'determination': 0.9866354857927693}\n"
     ]
    }
   ],
   "source": [
    "print(polyfit(x_1, y_1, 1))"
   ]
  },
  {
   "cell_type": "markdown",
   "metadata": {},
   "source": [
    "## Test using Scikit-learn\n",
    "Same but with Scikit-learn"
   ]
  },
  {
   "cell_type": "code",
   "execution_count": 28,
   "metadata": {},
   "outputs": [],
   "source": [
    "from sklearn.linear_model import LinearRegression\n",
    "reg = LinearRegression().fit(x, y)"
   ]
  },
  {
   "cell_type": "code",
   "execution_count": 29,
   "metadata": {},
   "outputs": [
    {
     "data": {
      "text/plain": [
       "0.9866354857927692"
      ]
     },
     "execution_count": 29,
     "metadata": {},
     "output_type": "execute_result"
    }
   ],
   "source": [
    "reg.score(x, y)  # Return the coefficient of determination of the prediction."
   ]
  },
  {
   "cell_type": "code",
   "execution_count": 30,
   "metadata": {},
   "outputs": [
    {
     "data": {
      "text/plain": [
       "array([[0.06625106]])"
      ]
     },
     "execution_count": 30,
     "metadata": {},
     "output_type": "execute_result"
    }
   ],
   "source": [
    "reg.coef_"
   ]
  },
  {
   "cell_type": "code",
   "execution_count": 31,
   "metadata": {},
   "outputs": [
    {
     "data": {
      "text/plain": [
       "array([2.16445828])"
      ]
     },
     "execution_count": 31,
     "metadata": {},
     "output_type": "execute_result"
    }
   ],
   "source": [
    "reg.intercept_"
   ]
  },
  {
   "cell_type": "markdown",
   "metadata": {},
   "source": [
    "## Go further\n",
    "Scikit-learn provides multiple regression models (linear and no). Feel free to explore other models!"
   ]
  },
  {
   "cell_type": "markdown",
   "metadata": {},
   "source": []
  }
 ],
 "metadata": {
  "kernelspec": {
   "display_name": "Python 3.8.6 64-bit ('3.8.6')",
   "language": "python",
   "name": "python3"
  },
  "language_info": {
   "codemirror_mode": {
    "name": "ipython",
    "version": 3
   },
   "file_extension": ".py",
   "mimetype": "text/x-python",
   "name": "python",
   "nbconvert_exporter": "python",
   "pygments_lexer": "ipython3",
   "version": "3.11.0"
  },
  "orig_nbformat": 4,
  "vscode": {
   "interpreter": {
    "hash": "b869b925a627315b3d78907505854533825d2f8c255ee8054a74e3e92f0a5a50"
   }
  }
 },
 "nbformat": 4,
 "nbformat_minor": 2
}
