{
 "cells": [
  {
   "attachments": {},
   "cell_type": "markdown",
   "metadata": {},
   "source": [
    "## IA : Mini-projet\n",
    "- Aubert Nicolas,\n",
    "- ISC3il-b"
   ]
  },
  {
   "attachments": {},
   "cell_type": "markdown",
   "metadata": {},
   "source": [
    "# Exercice 1 - Classification de texte"
   ]
  },
  {
   "attachments": {},
   "cell_type": "markdown",
   "metadata": {},
   "source": [
    "## Data loading\n",
    "\n",
    "Soit les commentaires sur les films stockés dans le répertoire data. Chaque commentaire est mis sur un fichier (lire un exemple). Le sous-répertoire pos contient les fichiers des commentaires positifs et le neg contient les commentaires négatifs. Le but de cet exercice est d’implémenter un classificateur positif/négatif des commentaires en texte."
   ]
  },
  {
   "cell_type": "code",
   "execution_count": 37,
   "metadata": {},
   "outputs": [
    {
     "name": "stdout",
     "output_type": "stream",
     "text": [
      "['neg', 'pos']\n"
     ]
    }
   ],
   "source": [
    "# Charger les fichiers depuis le répertoire data en utilisant la méthode load_files() du package sklearn.datasets.\n",
    "from sklearn.datasets import load_files\n",
    "from sklearn.model_selection import train_test_split\n",
    "\n",
    "# Charger les données (./exo1/data')\n",
    "data = load_files(\"./exo1/data/\")\n",
    "\n",
    "print(data.target_names)\n",
    "\n",
    "# Diviser les données en train et test avec une répartition de 70-30%.\n",
    "X_train, X_test, y_train, y_test = train_test_split(data.data, data.target, test_size=0.3, random_state=0)\n",
    "\n",
    "# Load les données de test (./exo1/data/test.csv')\n",
    "data_test = load_files(\"./exo1/data/\")"
   ]
  },
  {
   "attachments": {},
   "cell_type": "markdown",
   "metadata": {},
   "source": [
    "## Classificateur Naïf"
   ]
  },
  {
   "cell_type": "code",
   "execution_count": 38,
   "metadata": {},
   "outputs": [
    {
     "name": "stdout",
     "output_type": "stream",
     "text": [
      "              precision    recall  f1-score   support\n",
      "\n",
      "         neg       0.93      0.86      0.89       303\n",
      "         pos       0.87      0.93      0.90       297\n",
      "\n",
      "    accuracy                           0.89       600\n",
      "   macro avg       0.90      0.89      0.89       600\n",
      "weighted avg       0.90      0.89      0.89       600\n",
      "\n"
     ]
    }
   ],
   "source": [
    "# Implémenter le classificateur Naïf\n",
    "from sklearn.feature_extraction.text import CountVectorizer\n",
    "from sklearn.naive_bayes import MultinomialNB\n",
    "from sklearn.pipeline import Pipeline\n",
    "\n",
    "# Créer un pipeline avec CountVectorizer et MultinomialNB\n",
    "text_clf = Pipeline([('vect', CountVectorizer()),\n",
    "                        ('clf', MultinomialNB())])\n",
    "\n",
    "# Entraîner le modèle\n",
    "text_clf.fit(X_train, y_train)\n",
    "\n",
    "# Prédire les données de test\n",
    "predicted = text_clf.predict(X_test)\n",
    "\n",
    "# Afficher le taux de précision\n",
    "from sklearn import metrics\n",
    " \n",
    "print(metrics.classification_report(y_test, predicted, target_names=data.target_names))"
   ]
  },
  {
   "attachments": {},
   "cell_type": "markdown",
   "metadata": {},
   "source": [
    "## Classificateur Bayes"
   ]
  },
  {
   "cell_type": "code",
   "execution_count": 39,
   "metadata": {},
   "outputs": [
    {
     "name": "stdout",
     "output_type": "stream",
     "text": [
      "              precision    recall  f1-score   support\n",
      "\n",
      "         neg       0.92      0.85      0.88       303\n",
      "         pos       0.86      0.93      0.89       297\n",
      "\n",
      "    accuracy                           0.89       600\n",
      "   macro avg       0.89      0.89      0.89       600\n",
      "weighted avg       0.89      0.89      0.89       600\n",
      "\n"
     ]
    }
   ],
   "source": [
    "# Implémenter le classificateur Bayes\n",
    "from sklearn.feature_extraction.text import CountVectorizer\n",
    "from sklearn.naive_bayes import BernoulliNB\n",
    "from sklearn.pipeline import Pipeline\n",
    "\n",
    "# Créer un pipeline avec CountVectorizer et BernoulliNB\n",
    "text_clf = Pipeline([('vect', CountVectorizer()),\n",
    "                        ('clf', BernoulliNB())])\n",
    "\n",
    "# Entraîner le modèle\n",
    "text_clf.fit(X_train, y_train)\n",
    "\n",
    "# Prédire les données de test\n",
    "predicted = text_clf.predict(X_test)\n",
    "\n",
    "# Afficher le taux de précision\n",
    "from sklearn import metrics\n",
    "\n",
    "print(metrics.classification_report(y_test, predicted, target_names=data.target_names))"
   ]
  },
  {
   "attachments": {},
   "cell_type": "markdown",
   "metadata": {},
   "source": [
    "## Réseau neuronal"
   ]
  },
  {
   "cell_type": "code",
   "execution_count": 41,
   "metadata": {},
   "outputs": [
    {
     "name": "stdout",
     "output_type": "stream",
     "text": [
      "<class 'list'>\n",
      "Model: \"sequential_18\"\n",
      "_________________________________________________________________\n",
      " Layer (type)                Output Shape              Param #   \n",
      "=================================================================\n",
      " dense_36 (Dense)            (None, 100)               1281500   \n",
      "                                                                 \n",
      " dense_37 (Dense)            (None, 1)                 101       \n",
      "                                                                 \n",
      "=================================================================\n",
      "Total params: 1,281,601\n",
      "Trainable params: 1,281,601\n",
      "Non-trainable params: 0\n",
      "_________________________________________________________________\n"
     ]
    }
   ],
   "source": [
    "# Importer Keras et créer un réseau\n",
    "from keras.models import Sequential\n",
    "from keras.layers import Dense\n",
    "import tensorflow as tf\n",
    "import numpy as np\n",
    "\n",
    "# Afficher le type de données\n",
    "print(type(X_train))\n",
    "\n",
    "# Utiliser un vecteur pour transformer les données\n",
    "vectorizer = CountVectorizer()\n",
    "\n",
    "# Fit le vecteur sur les données d'entraînement\n",
    "vectorizer.fit(X_train)\n",
    "\n",
    "# Transformer les données\n",
    "X_train = vectorizer.transform(X_train)\n",
    "X_test = vectorizer.transform(X_test)\n",
    "\n",
    "input_dim = X_train.shape[1]  # Nombre de features\n",
    "\n",
    "# Créer un réseau de neurones avec 3 couches\n",
    "model = Sequential()\n",
    "\n",
    "# Ajouter une couche d'entrée avec 100 neurones\n",
    "model.add(Dense(100, input_dim=input_dim, activation='relu'))\n",
    "\n",
    "# Ajouter une couche cachée avec 50 neurones\n",
    "# model.add(Dense(50, activation='sigmoid'))\n",
    "\n",
    "# Ajouter une couche de sortie avec 1 neurone\n",
    "model.add(Dense(1, activation='sigmoid'))\n",
    "\n",
    "# Compiler le modèle\n",
    "model.compile(loss='binary_crossentropy', optimizer='adam', metrics=['accuracy'])\n",
    "\n",
    "model.summary()\n",
    "\n",
    "# entrainer le model (exemple de paramètres)\n",
    "history = model.fit(X_train, y_train, epochs=100, verbose=False, validation_data=(X_test, y_test), batch_size=10)"
   ]
  },
  {
   "cell_type": "code",
   "execution_count": 45,
   "metadata": {},
   "outputs": [
    {
     "name": "stdout",
     "output_type": "stream",
     "text": [
      "Training Accuracy: 1.0000\n"
     ]
    },
    {
     "data": {
      "image/png": "[encoded data removed]",
      "text/plain": [
       "<Figure size 1200x500 with 2 Axes>"
      ]
     },
     "metadata": {},
     "output_type": "display_data"
    }
   ],
   "source": [
    "# évaluer le modèle\n",
    "loss, accuracy = model.evaluate(X_train, y_train, verbose=False)\n",
    "\n",
    "# afficher l’accuracy\n",
    "print(\"Training Accuracy: {:.4f}\".format(accuracy))\n",
    "\n",
    "# plotter le loss et l’accuracy du history\n",
    "import matplotlib.pyplot as plt\n",
    "\n",
    "plt.style.use('ggplot')\n",
    "\n",
    "def plot_history(history):\n",
    "    acc = history.history['accuracy']\n",
    "    loss = history.history['loss']\n",
    "    x = range(1, len(acc) + 1)\n",
    "\n",
    "    plt.figure(figsize=(12, 5))\n",
    "    plt.subplot(1, 2, 1)\n",
    "    plt.plot(x, acc, 'b', label='Training acc')\n",
    "    plt.title('Training accuracy')\n",
    "    plt.legend()\n",
    "    plt.subplot(1, 2, 2)\n",
    "    plt.plot(x, loss, 'b', label='Training loss')\n",
    "    plt.title('Training loss')\n",
    "    plt.legend()\n",
    "    \n",
    "plot_history(history)"
   ]
  },
  {
   "attachments": {},
   "cell_type": "markdown",
   "metadata": {},
   "source": [
    "# Exercice 2 - Classification de mobiles\n",
    "Le but de ce classificateur est de prédire les classes de prix (price_range) (0, 1, 2, 3) des téléphones portables à partir de leurs caractéristiques techniques (puissance de la batterie, couleurs, mémoire, etc.).\n",
    "\n",
    "## Data loading"
   ]
  },
  {
   "cell_type": "code",
   "execution_count": 106,
   "metadata": {},
   "outputs": [
    {
     "name": "stdout",
     "output_type": "stream",
     "text": [
      "   battery_power  blue  clock_speed  dual_sim  fc  four_g  int_memory  m_dep  \\\n",
      "0            842     0          2.2         0   1       0           7    0.6   \n",
      "1           1021     1          0.5         1   0       1          53    0.7   \n",
      "2            563     1          0.5         1   2       1          41    0.9   \n",
      "3            615     1          2.5         0   0       0          10    0.8   \n",
      "4           1821     1          1.2         0  13       1          44    0.6   \n",
      "5           1859     0          0.5         1   3       0          22    0.7   \n",
      "6           1821     0          1.7         0   4       1          10    0.8   \n",
      "7           1954     0          0.5         1   0       0          24    0.8   \n",
      "8           1445     1          0.5         0   0       0          53    0.7   \n",
      "9            509     1          0.6         1   2       1           9    0.1   \n",
      "\n",
      "   mobile_wt  n_cores  ...  px_height  px_width   ram  sc_h  sc_w  talk_time  \\\n",
      "0        188        2  ...         20       756  2549     9     7         19   \n",
      "1        136        3  ...        905      1988  2631    17     3          7   \n",
      "2        145        5  ...       1263      1716  2603    11     2          9   \n",
      "3        131        6  ...       1216      1786  2769    16     8         11   \n",
      "4        141        2  ...       1208      1212  1411     8     2         15   \n",
      "5        164        1  ...       1004      1654  1067    17     1         10   \n",
      "6        139        8  ...        381      1018  3220    13     8         18   \n",
      "7        187        4  ...        512      1149   700    16     3          5   \n",
      "8        174        7  ...        386       836  1099    17     1         20   \n",
      "9         93        5  ...       1137      1224   513    19    10         12   \n",
      "\n",
      "   three_g  touch_screen  wifi  price_range  \n",
      "0        0             0     1            1  \n",
      "1        1             1     0            2  \n",
      "2        1             1     0            2  \n",
      "3        1             0     0            2  \n",
      "4        1             1     0            1  \n",
      "5        1             0     0            1  \n",
      "6        1             0     1            3  \n",
      "7        1             1     1            0  \n",
      "8        1             0     0            0  \n",
      "9        1             0     0            0  \n",
      "\n",
      "[10 rows x 21 columns]\n"
     ]
    }
   ],
   "source": [
    "\n",
    "import pandas as pd\n",
    "from sklearn.metrics import accuracy_score\n",
    "from sklearn.model_selection import train_test_split\n",
    "from sklearn.model_selection import train_test_split\n",
    "from sklearn.pipeline import Pipeline\n",
    "from sklearn.preprocessing import StandardScaler\n",
    "from sklearn.svm import SVC\n",
    "from sklearn.metrics import classification_report\n",
    "from sklearn.model_selection import GridSearchCV\n",
    "\n",
    "df = pd.read_csv(\"./exo2/data/train.csv\")\n",
    "\n",
    "print(df.head(10))\n",
    "\n",
    "# 2. Enlever depuis les données de train les lignes où la colonne px_height est nulle.\n",
    "df = df[df['px_height'].notnull()]\n",
    "\n",
    "# 3. Diviser les données en train et test.\n",
    "X_train, X_test, y_train, y_test = train_test_split(df.drop('price_range', axis=1), df['price_range'], test_size=0.3, random_state=0)"
   ]
  },
  {
   "cell_type": "code",
   "execution_count": 64,
   "metadata": {},
   "outputs": [
    {
     "name": "stdout",
     "output_type": "stream",
     "text": [
      "0.8866666666666667\n",
      "              precision    recall  f1-score   support\n",
      "\n",
      "           0       0.93      0.95      0.94       151\n",
      "           1       0.82      0.85      0.83       135\n",
      "           2       0.83      0.85      0.84       151\n",
      "           3       0.97      0.89      0.93       163\n",
      "\n",
      "    accuracy                           0.89       600\n",
      "   macro avg       0.89      0.89      0.89       600\n",
      "weighted avg       0.89      0.89      0.89       600\n",
      "\n"
     ]
    }
   ],
   "source": [
    "# Implémenter un pipeline SVM avec un scaler de votre choix.\n",
    "pipe = Pipeline([('scaler', StandardScaler()), ('svc', SVC())])\n",
    "\n",
    "# Entraîner le modèle\n",
    "pipe.fit(X_train, y_train)\n",
    "\n",
    "# Prédire les données de test\n",
    "predicted = pipe.predict(X_test)\n",
    "\n",
    "# Afficher le taux de précision\n",
    "print(accuracy_score(y_test, predicted))\n",
    "\n",
    "# Afficher le rapport d’évaluation après l’évaluation des données de test.\n",
    "print(classification_report(y_test, predicted))"
   ]
  },
  {
   "cell_type": "code",
   "execution_count": 65,
   "metadata": {},
   "outputs": [
    {
     "name": "stdout",
     "output_type": "stream",
     "text": [
      "0.835\n",
      "              precision    recall  f1-score   support\n",
      "\n",
      "           0       0.91      0.90      0.91       151\n",
      "           1       0.77      0.80      0.78       135\n",
      "           2       0.78      0.74      0.76       151\n",
      "           3       0.87      0.89      0.88       163\n",
      "\n",
      "    accuracy                           0.83       600\n",
      "   macro avg       0.83      0.83      0.83       600\n",
      "weighted avg       0.84      0.83      0.83       600\n",
      "\n"
     ]
    }
   ],
   "source": [
    "# Implémenter un arbre de décision\n",
    "from sklearn.tree import DecisionTreeClassifier\n",
    "\n",
    "# Créer un pipeline avec StandardScaler et DecisionTreeClassifier\n",
    "pipe = Pipeline([('scaler', StandardScaler()), ('clf', DecisionTreeClassifier())])\n",
    "\n",
    "# Entraîner le modèle\n",
    "pipe.fit(X_train, y_train)\n",
    "\n",
    "# Prédire les données de test\n",
    "predicted = pipe.predict(X_test)\n",
    "\n",
    "# Afficher le taux de précision\n",
    "print(accuracy_score(y_test, predicted))\n",
    "\n",
    "# Afficher le rapport d’évaluation après l’évaluation des données de test.\n",
    "print(classification_report(y_test, predicted))"
   ]
  },
  {
   "cell_type": "code",
   "execution_count": 66,
   "metadata": {},
   "outputs": [
    {
     "name": "stdout",
     "output_type": "stream",
     "text": [
      "0.8616666666666667\n",
      "              precision    recall  f1-score   support\n",
      "\n",
      "           0       0.94      0.97      0.95       151\n",
      "           1       0.81      0.81      0.81       135\n",
      "           2       0.79      0.75      0.77       151\n",
      "           3       0.90      0.91      0.91       163\n",
      "\n",
      "    accuracy                           0.86       600\n",
      "   macro avg       0.86      0.86      0.86       600\n",
      "weighted avg       0.86      0.86      0.86       600\n",
      "\n"
     ]
    }
   ],
   "source": [
    "# puis un Forest Tree (from sklearn.ensemble import RandomForestClassifier).\n",
    "from sklearn.ensemble import RandomForestClassifier\n",
    "\n",
    "# Créer un pipeline avec StandardScaler et RandomForestClassifier\n",
    "pipe = Pipeline([('scaler', StandardScaler()), ('clf', RandomForestClassifier())])\n",
    "\n",
    "# Entraîner le modèle\n",
    "pipe.fit(X_train, y_train)\n",
    "\n",
    "# Prédire les données de test\n",
    "predicted = pipe.predict(X_test)\n",
    "\n",
    "# Afficher le taux de précision\n",
    "print(accuracy_score(y_test, predicted))\n",
    "\n",
    "# Afficher le rapport d’évaluation après l’évaluation des données de test.\n",
    "print(classification_report(y_test, predicted))"
   ]
  },
  {
   "cell_type": "code",
   "execution_count": 107,
   "metadata": {},
   "outputs": [
    {
     "ename": "NotFittedError",
     "evalue": "Vocabulary not fitted or provided",
     "output_type": "error",
     "traceback": [
      "\u001b[1;31m---------------------------------------------------------------------------\u001b[0m",
      "\u001b[1;31mNotFittedError\u001b[0m                            Traceback (most recent call last)",
      "Cell \u001b[1;32mIn[107], line 22\u001b[0m\n\u001b[0;32m     19\u001b[0m vectorizer \u001b[39m=\u001b[39m CountVectorizer()\n\u001b[0;32m     21\u001b[0m \u001b[39m# Vectorizer les données\u001b[39;00m\n\u001b[1;32m---> 22\u001b[0m X_train \u001b[39m=\u001b[39m vectorizer\u001b[39m.\u001b[39;49mtransform(X_train)\n\u001b[0;32m     23\u001b[0m X_test \u001b[39m=\u001b[39m vectorizer\u001b[39m.\u001b[39mtransform(X_test)\n\u001b[0;32m     25\u001b[0m \u001b[39m# To categorical\u001b[39;00m\n",
      "File \u001b[1;32mc:\\Users\\Nicolas Aubert\\AppData\\Local\\Programs\\Python\\Python311\\Lib\\site-packages\\sklearn\\feature_extraction\\text.py:1429\u001b[0m, in \u001b[0;36mCountVectorizer.transform\u001b[1;34m(self, raw_documents)\u001b[0m\n\u001b[0;32m   1425\u001b[0m \u001b[39mif\u001b[39;00m \u001b[39misinstance\u001b[39m(raw_documents, \u001b[39mstr\u001b[39m):\n\u001b[0;32m   1426\u001b[0m     \u001b[39mraise\u001b[39;00m \u001b[39mValueError\u001b[39;00m(\n\u001b[0;32m   1427\u001b[0m         \u001b[39m\"\u001b[39m\u001b[39mIterable over raw text documents expected, string object received.\u001b[39m\u001b[39m\"\u001b[39m\n\u001b[0;32m   1428\u001b[0m     )\n\u001b[1;32m-> 1429\u001b[0m \u001b[39mself\u001b[39;49m\u001b[39m.\u001b[39;49m_check_vocabulary()\n\u001b[0;32m   1431\u001b[0m \u001b[39m# use the same matrix-building strategy as fit_transform\u001b[39;00m\n\u001b[0;32m   1432\u001b[0m _, X \u001b[39m=\u001b[39m \u001b[39mself\u001b[39m\u001b[39m.\u001b[39m_count_vocab(raw_documents, fixed_vocab\u001b[39m=\u001b[39m\u001b[39mTrue\u001b[39;00m)\n",
      "File \u001b[1;32mc:\\Users\\Nicolas Aubert\\AppData\\Local\\Programs\\Python\\Python311\\Lib\\site-packages\\sklearn\\feature_extraction\\text.py:510\u001b[0m, in \u001b[0;36m_VectorizerMixin._check_vocabulary\u001b[1;34m(self)\u001b[0m\n\u001b[0;32m    508\u001b[0m     \u001b[39mself\u001b[39m\u001b[39m.\u001b[39m_validate_vocabulary()\n\u001b[0;32m    509\u001b[0m     \u001b[39mif\u001b[39;00m \u001b[39mnot\u001b[39;00m \u001b[39mself\u001b[39m\u001b[39m.\u001b[39mfixed_vocabulary_:\n\u001b[1;32m--> 510\u001b[0m         \u001b[39mraise\u001b[39;00m NotFittedError(\u001b[39m\"\u001b[39m\u001b[39mVocabulary not fitted or provided\u001b[39m\u001b[39m\"\u001b[39m)\n\u001b[0;32m    512\u001b[0m \u001b[39mif\u001b[39;00m \u001b[39mlen\u001b[39m(\u001b[39mself\u001b[39m\u001b[39m.\u001b[39mvocabulary_) \u001b[39m==\u001b[39m \u001b[39m0\u001b[39m:\n\u001b[0;32m    513\u001b[0m     \u001b[39mraise\u001b[39;00m \u001b[39mValueError\u001b[39;00m(\u001b[39m\"\u001b[39m\u001b[39mVocabulary is empty\u001b[39m\u001b[39m\"\u001b[39m)\n",
      "\u001b[1;31mNotFittedError\u001b[0m: Vocabulary not fitted or provided"
     ]
    }
   ],
   "source": [
    "# Implémenter un réseau de neurone.\n",
    "from keras.models import Sequential\n",
    "\n",
    "# import to_categorical\n",
    "from keras.utils import to_categorical\n",
    "\n",
    "# Créer un réseau de neurones avec 3 couches\n",
    "model = Sequential()\n",
    "\n",
    "# Input dim\n",
    "input_dim = X_train.shape[1]  # Nombre de features\n",
    "\n",
    "# Scale les données\n",
    "scaler = StandardScaler()\n",
    "X_train = scaler.fit_transform(X_train)\n",
    "X_test = scaler.transform(X_test)\n",
    "\n",
    "# Transformer les données (vectorizer)\n",
    "vectorizer = CountVectorizer()\n",
    "\n",
    "# Vectorizer les données\n",
    "X_train = vectorizer.transform(X_train)\n",
    "X_test = vectorizer.transform(X_test)\n",
    "\n",
    "# To categorical\n",
    "y_train = to_categorical(y_train)\n",
    "y_test = to_categorical(y_test)\n",
    "\n",
    "# Ajouter une couche d'entrée avec 100 neurones\n",
    "model.add(Dense(100, input_dim=input_dim, activation='relu'))\n",
    "\n",
    "# Ajouter une couche cachée avec 250 neurones\n",
    "model.add(Dense(50, activation='sigmoid'))\n",
    "\n",
    "# Ajouter une couche de sortie avec 1 neurone\n",
    "model.add(Dense(1, activation='sigmoid'))\n",
    "\n",
    "# Compiler le modèle avec une entropy qui n'est pas binaire (car on a 4 classes)\n",
    "model.compile(loss='categorical_crossentropy', optimizer='adam', metrics=['accuracy'])\n",
    "\n",
    "model.summary()\n",
    "\n",
    "# entrainer le model (exemple de paramètres)\n",
    "history = model.fit(X_train, y_train, epochs=100, verbose=False, validation_data=(X_test, y_test), batch_size=10)\n",
    "\n",
    "# évaluer le modèle\n",
    "loss, accuracy = model.evaluate(X_train, y_train, verbose=False)\n",
    "\n",
    "# afficher l’accuracy\n",
    "print(\"Training Accuracy: {:.4f}\".format(accuracy))\n",
    "\n",
    "# Afficher le loss\n",
    "print(\"Training Loss: {:.4f}\".format(loss))"
   ]
  },
  {
   "cell_type": "code",
   "execution_count": 79,
   "metadata": {},
   "outputs": [
    {
     "data": {
      "image/png": "[encoded data removed]",
      "text/plain": [
       "<Figure size 1200x500 with 2 Axes>"
      ]
     },
     "metadata": {},
     "output_type": "display_data"
    }
   ],
   "source": [
    "# Plotter le loss et l’accuracy du history\n",
    "import matplotlib.pyplot as plt\n",
    "\n",
    "plt.style.use('ggplot')\n",
    "\n",
    "def plot_history(history):\n",
    "    acc = history.history['accuracy']\n",
    "    loss = history.history['loss']\n",
    "    x = range(1, len(acc) + 1)\n",
    "\n",
    "    plt.figure(figsize=(12, 5))\n",
    "    plt.subplot(1, 2, 1)\n",
    "    plt.plot(x, acc, 'b', label='Training acc')\n",
    "    plt.title('Training accuracy')\n",
    "    plt.legend()\n",
    "    plt.subplot(1, 2, 2)\n",
    "    plt.plot(x, loss, 'b', label='Training loss')\n",
    "    plt.title('Training loss')\n",
    "    plt.legend()\n",
    "    \n",
    "plot_history(history)"
   ]
  }
 ],
 "metadata": {
  "kernelspec": {
   "display_name": "Python 3",
   "language": "python",
   "name": "python3"
  },
  "language_info": {
   "codemirror_mode": {
    "name": "ipython",
    "version": 3
   },
   "file_extension": ".py",
   "mimetype": "text/x-python",
   "name": "python",
   "nbconvert_exporter": "python",
   "pygments_lexer": "ipython3",
   "version": "3.11.0"
  },
  "orig_nbformat": 4
 },
 "nbformat": 4,
 "nbformat_minor": 2
}
